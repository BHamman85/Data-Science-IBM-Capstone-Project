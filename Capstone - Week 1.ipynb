{
 "cells": [
  {
   "cell_type": "markdown",
   "id": "29df4336-fc55-43ce-bf97-e5b5a4d78a61",
   "metadata": {},
   "source": [
    "# Battle of the Neighborhoods Capstone Project"
   ]
  },
  {
   "cell_type": "markdown",
   "id": "f22df2fb-ded5-420f-aa6f-63fa131fadfc",
   "metadata": {},
   "source": [
    "## Problem:"
   ]
  },
  {
   "cell_type": "markdown",
   "id": "3692a8b2-a1a1-4437-a4d1-d4fad4e2d15f",
   "metadata": {},
   "source": [
    "#### The President of the United States has recently stated there would be an effort to have 70% of the U.S. population given at least one dose of the Corona Virus vaccination by July 4th of this year.\n",
    "\n",
    "#### With time and resources limited, which cities and states should the administration focus its efforts to encourage the populace to get a vaccine should be of utmost priority.\n",
    "\n",
    "#### Utilizing Heat Maps, for Population Density, Age of Population, Concentration of Current Cases and Areas that a high number of the populace who have received the shot should be taken into consideration."
   ]
  },
  {
   "cell_type": "markdown",
   "id": "58d4d045-b23b-4fc2-b509-7f9a7b490205",
   "metadata": {},
   "source": [
    "## For this project I will be using the following data: \n",
    "#### 1) Center for Disease Control reports (CDC) indicating which areas currently have higher concentrations of COVID cases\n",
    "https://covid.cdc.gov/covid-data-tracker/#cases_casesper100klast7days\n",
    "#### 2) CDC reports indicating areas have the highest concentration of people who have received the shot\n",
    "https://covid.cdc.gov/covid-data-tracker/#vaccinations\n",
    "#### 3) Population projection report, including age demographics, from United States Census Bureau for most recent year (2019) as areas with higher populace and elderly populations increase the chance of transmission of COVID.\n",
    "https://www.census.gov/data/tables/time-series/demo/popest/2010s-state-detail.html#par_textimage_673542126\n"
   ]
  },
  {
   "cell_type": "code",
   "execution_count": null,
   "id": "07aca860-dc7f-4cd7-8bf0-af38cc20a299",
   "metadata": {},
   "outputs": [],
   "source": []
  }
 ],
 "metadata": {
  "kernelspec": {
   "display_name": "Python",
   "language": "python",
   "name": "conda-env-python-py"
  },
  "language_info": {
   "codemirror_mode": {
    "name": "ipython",
    "version": 3
   },
   "file_extension": ".py",
   "mimetype": "text/x-python",
   "name": "python",
   "nbconvert_exporter": "python",
   "pygments_lexer": "ipython3",
   "version": "3.6.13"
  }
 },
 "nbformat": 4,
 "nbformat_minor": 5
}
